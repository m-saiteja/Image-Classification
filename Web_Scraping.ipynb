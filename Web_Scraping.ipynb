{
 "cells": [
  {
   "cell_type": "code",
   "execution_count": 1,
   "metadata": {},
   "outputs": [],
   "source": [
    "import os\n",
    "import shutil\n",
    "import random\n",
    "from glob import glob\n",
    "from zipfile import ZipFile\n",
    "from bing_image_downloader import downloader"
   ]
  },
  {
   "cell_type": "code",
   "execution_count": 2,
   "metadata": {},
   "outputs": [],
   "source": [
    "# creating the data folder to store the data\n",
    "\n",
    "cwd = os.getcwd()\n",
    "parent_dir = f\"{cwd}/data\"\n",
    "os.mkdir(parent_dir)"
   ]
  },
  {
   "cell_type": "code",
   "execution_count": 3,
   "metadata": {},
   "outputs": [],
   "source": [
    "# downloading 1200 images of pikachu\n",
    "\n",
    "downloader.download(\"pikachu images\", limit=1200, output_dir=parent_dir, force_replace=False, timeout=30, verbose=False)"
   ]
  },
  {
   "cell_type": "code",
   "execution_count": 4,
   "metadata": {},
   "outputs": [],
   "source": [
    "#downloading 1200 images of kanye west\n",
    "\n",
    "downloader.download(\"kanye west images\", limit=1200, output_dir=parent_dir, force_replace=False, timeout=30, verbose=False)"
   ]
  },
  {
   "cell_type": "code",
   "execution_count": 5,
   "metadata": {},
   "outputs": [],
   "source": [
    "#downloading 1200 images of cats\n",
    "\n",
    "downloader.download(\"cats images\", limit=1200, output_dir=parent_dir, force_replace=False, timeout=30, verbose=False)"
   ]
  },
  {
   "cell_type": "code",
   "execution_count": 6,
   "metadata": {},
   "outputs": [],
   "source": [
    "# creating directories for the dataset\n",
    "\n",
    "dataset_dir = f\"{cwd}/dataset\"\n",
    "\n",
    "test_dir = f\"{dataset_dir}/test/\"\n",
    "test_data_dir = f\"{test_dir}/pikachuVkanyeVcats\"\n",
    "\n",
    "validation_dir = f\"{dataset_dir}/validation\"\n",
    "validation_pikachu_dir = f\"{validation_dir}/pikachu\"\n",
    "validation_kanye_dir = f\"{validation_dir}/kanye\"\n",
    "validation_cats_dir = f\"{validation_dir}/cats\"\n",
    "\n",
    "train_dir = f\"{dataset_dir}/train\"\n",
    "train_pikachu_dir = f\"{train_dir}/pikachu\"\n",
    "train_kanye_dir = f\"{train_dir}/kanye\"\n",
    "train_cats_dir = f\"{train_dir}/cats\""
   ]
  },
  {
   "cell_type": "code",
   "execution_count": 7,
   "metadata": {},
   "outputs": [],
   "source": [
    "dirs = [dataset_dir, test_dir, test_data_dir, \\\n",
    "    validation_dir, validation_cats_dir, validation_kanye_dir, validation_pikachu_dir, \\\n",
    "    train_dir, train_cats_dir, train_kanye_dir, train_pikachu_dir]\n",
    "\n",
    "for i in dirs:\n",
    "    os.mkdir(i)"
   ]
  },
  {
   "cell_type": "code",
   "execution_count": 8,
   "metadata": {},
   "outputs": [],
   "source": [
    "# renaming the directories\n",
    "for i in glob(f\"{parent_dir}/*\", recursive=False):\n",
    "    prefix = i.split(\"\\\\\")[-1].split()[0]\n",
    "    dest = \"{}/{}\".format('/'.join(i.split('\\\\')[:-1]), prefix)\n",
    "    os.rename(i, dest)  \n"
   ]
  },
  {
   "cell_type": "code",
   "execution_count": null,
   "metadata": {},
   "outputs": [],
   "source": [
    "classes = glob(f\"{parent_dir}/*\", recursive=False)\n",
    "classes"
   ]
  },
  {
   "cell_type": "code",
   "execution_count": 10,
   "metadata": {},
   "outputs": [],
   "source": [
    "# renaming files\n",
    "for i in classes:\n",
    "       all_files = glob(f\"{i}/*\", recursive=False)\n",
    "       for img in all_files:\n",
    "              new_name = \"_\".join(img.split(\"\\\\\")[-2:])\n",
    "              new_abs_name = \"/\".join([i, new_name])\n",
    "              os.rename(img, new_abs_name)"
   ]
  },
  {
   "cell_type": "code",
   "execution_count": 11,
   "metadata": {},
   "outputs": [
    {
     "name": "stdout",
     "output_type": "stream",
     "text": [
      "912 256 32\n"
     ]
    }
   ],
   "source": [
    "train_size = 912\n",
    "val_size = 256\n",
    "test_size = 1200 - val_size - train_size\n",
    "\n",
    "print(train_size, val_size, test_size)"
   ]
  },
  {
   "cell_type": "code",
   "execution_count": 12,
   "metadata": {},
   "outputs": [],
   "source": [
    "# function to move given files from source to destination folder\n",
    "\n",
    "def move_files(source, destination, files_to_move):\n",
    "    for file in files_to_move:\n",
    "        source_file = source + file\n",
    "        destination_file = destination + file\n",
    "        shutil.move(source_file, destination_file)\n",
    "    print(\"Done!!\")"
   ]
  },
  {
   "cell_type": "code",
   "execution_count": 13,
   "metadata": {},
   "outputs": [
    {
     "name": "stdout",
     "output_type": "stream",
     "text": [
      "Done!!\n",
      "Done!!\n",
      "Done!!\n"
     ]
    }
   ],
   "source": [
    "# moving images of cats to create the dataset\n",
    "cats_files = os.listdir(f\"{parent_dir}/cats\")\n",
    "random.shuffle(cats_files)\n",
    "move_files(f\"{parent_dir}/cats/\", f\"{dataset_dir}/train/cats/\", cats_files[:train_size])\n",
    "move_files(f\"{parent_dir}/cats/\", f\"{dataset_dir}/validation/cats/\", cats_files[train_size : train_size + val_size])\n",
    "move_files(f\"{parent_dir}/cats/\", f\"{dataset_dir}/test/pikachuVkanyeVcats/\", cats_files[train_size + val_size:])"
   ]
  },
  {
   "cell_type": "code",
   "execution_count": 14,
   "metadata": {},
   "outputs": [
    {
     "name": "stdout",
     "output_type": "stream",
     "text": [
      "Done!!\n",
      "Done!!\n",
      "Done!!\n"
     ]
    }
   ],
   "source": [
    "# moving images of pikachu to create the dataset\n",
    "pikachu_files = os.listdir(f\"{parent_dir}/pikachu\")\n",
    "random.shuffle(pikachu_files)\n",
    "move_files(f\"{parent_dir}/pikachu/\", f\"{dataset_dir}/train/pikachu/\", pikachu_files[:train_size])\n",
    "move_files(f\"{parent_dir}/pikachu/\", f\"{dataset_dir}/validation/pikachu/\", pikachu_files[train_size : train_size + val_size])\n",
    "move_files(f\"{parent_dir}/pikachu/\", f\"{dataset_dir}/test/pikachuVkanyeVcats/\", pikachu_files[train_size + val_size:])"
   ]
  },
  {
   "cell_type": "code",
   "execution_count": 15,
   "metadata": {},
   "outputs": [
    {
     "name": "stdout",
     "output_type": "stream",
     "text": [
      "Done!!\n",
      "Done!!\n",
      "Done!!\n"
     ]
    }
   ],
   "source": [
    "# moving images of kanye west to create the dataset\n",
    "kanye_files = os.listdir(f\"{parent_dir}/kanye\")\n",
    "random.shuffle(kanye_files)\n",
    "move_files(f\"{parent_dir}/kanye/\", f\"{dataset_dir}/train/kanye/\", kanye_files[:train_size])\n",
    "move_files(f\"{parent_dir}/kanye/\", f\"{dataset_dir}/validation/kanye/\", kanye_files[train_size : train_size + val_size])\n",
    "move_files(f\"{parent_dir}/kanye/\", f\"{dataset_dir}/test/pikachuVkanyeVcats/\", kanye_files[train_size + val_size:])"
   ]
  },
  {
   "cell_type": "code",
   "execution_count": 16,
   "metadata": {},
   "outputs": [],
   "source": [
    "# remove data folder\n",
    "\n",
    "shutil.rmtree(parent_dir)"
   ]
  },
  {
   "cell_type": "code",
   "execution_count": 17,
   "metadata": {},
   "outputs": [],
   "source": [
    "# function to zip the dataset folder\n",
    "\n",
    "def zip_compression_tree(root, zip_name):\n",
    "    with ZipFile(zip_name, 'w') as z:\n",
    "        for root, dirs, files in os.walk(root):\n",
    "            for file in files:\n",
    "                z.write(os.path.join(root, file))\n",
    "            for directory in dirs:\n",
    "                z.write(os.path.join(root, directory))\n",
    "zip_compression_tree(\"./dataset\", \"dataset.zip\")"
   ]
  },
  {
   "cell_type": "code",
   "execution_count": null,
   "metadata": {},
   "outputs": [],
   "source": []
  }
 ],
 "metadata": {
  "interpreter": {
   "hash": "9de4d470904bbce048c55457c23b795bfd2b8bee0e370a27589bfe1c9c9ea618"
  },
  "kernelspec": {
   "display_name": "Python 3",
   "language": "python",
   "name": "python3"
  },
  "language_info": {
   "codemirror_mode": {
    "name": "ipython",
    "version": 3
   },
   "file_extension": ".py",
   "mimetype": "text/x-python",
   "name": "python",
   "nbconvert_exporter": "python",
   "pygments_lexer": "ipython3",
   "version": "3.8.5"
  }
 },
 "nbformat": 4,
 "nbformat_minor": 2
}
